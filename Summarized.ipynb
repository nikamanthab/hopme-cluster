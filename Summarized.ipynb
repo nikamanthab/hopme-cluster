{
 "cells": [
  {
   "cell_type": "markdown",
   "metadata": {},
   "source": [
    "# Program:"
   ]
  },
  {
   "cell_type": "code",
   "execution_count": 7,
   "metadata": {},
   "outputs": [],
   "source": [
    "import matplotlib.pyplot as plt\n",
    "import pandas as pd\n",
    "import seaborn as sns\n",
    "%matplotlib inline\n",
    "\n",
    "from sklearn.cluster import KMeans, SpectralClustering\n",
    "from sklearn.preprocessing import StandardScaler\n",
    "from sklearn.metrics import silhouette_samples, silhouette_score\n",
    "\n",
    "class Cluster:\n",
    "    def __init__(self):\n",
    "        pass\n",
    "    def sendCoordandTeam(self,lat_long,n_teams):\n",
    "        self.lat_long = lat_long\n",
    "        self.n_teams = n_teams\n",
    "        self.df = pd.DataFrame(lat_long,columns=['lat','long'])\n",
    "    def getAllCoordinates(self):\n",
    "        return self.lat_long\n",
    "    def getCentroids(self):\n",
    "        km = KMeans(n_clusters=self.n_teams, max_iter=100)\n",
    "        km.fit(self.df)\n",
    "        centroids = km.cluster_centers_\n",
    "#         print(centroids)\n",
    "        return centroids"
   ]
  },
  {
   "cell_type": "markdown",
   "metadata": {},
   "source": [
    "# Testing:"
   ]
  },
  {
   "cell_type": "code",
   "execution_count": 8,
   "metadata": {},
   "outputs": [
    {
     "name": "stdout",
     "output_type": "stream",
     "text": [
      "test dataframe:\n",
      "    lat  long\n",
      "0  1.0   1.0\n",
      "1  1.3   1.6\n",
      "2  5.5   5.1\n",
      "3  5.6   6.1 \n",
      "\n",
      "all coord:\n",
      " [[1.  1. ]\n",
      " [1.3 1.6]\n",
      " [5.5 5.1]\n",
      " [5.6 6.1]] \n",
      "\n",
      "centroids:\n",
      " [[5.55 5.6 ]\n",
      " [1.15 1.3 ]]\n"
     ]
    }
   ],
   "source": [
    "cl = Cluster()\n",
    "df = pd.read_csv('test.csv')\n",
    "print(\"test dataframe:\\n\",df,\"\\n\")\n",
    "cl.sendCoordandTeam(df.iloc[:].values,2)\n",
    "print(\"all coord:\\n\",cl.getAllCoordinates(),\"\\n\")\n",
    "print(\"centroids:\\n\",cl.getCentroids())"
   ]
  }
 ],
 "metadata": {
  "kernelspec": {
   "display_name": "Python 3",
   "language": "python",
   "name": "python3"
  },
  "language_info": {
   "codemirror_mode": {
    "name": "ipython",
    "version": 3
   },
   "file_extension": ".py",
   "mimetype": "text/x-python",
   "name": "python",
   "nbconvert_exporter": "python",
   "pygments_lexer": "ipython3",
   "version": "3.7.4"
  }
 },
 "nbformat": 4,
 "nbformat_minor": 2
}
